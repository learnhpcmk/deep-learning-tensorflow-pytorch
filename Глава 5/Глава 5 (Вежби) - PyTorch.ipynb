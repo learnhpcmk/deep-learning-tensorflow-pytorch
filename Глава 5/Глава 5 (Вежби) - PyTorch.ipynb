{
  "nbformat": 4,
  "nbformat_minor": 0,
  "metadata": {
    "colab": {
      "name": "Глава 5 PyTorch.ipynb",
      "provenance": [],
      "collapsed_sections": []
    },
    "kernelspec": {
      "name": "python3",
      "display_name": "Python 3"
    },
    "language_info": {
      "name": "python"
    },
    "widgets": {
      "application/vnd.jupyter.widget-state+json": {
        "9fd402a2787147939348e2c522df63a9": {
          "model_module": "@jupyter-widgets/controls",
          "model_name": "HBoxModel",
          "model_module_version": "1.5.0",
          "state": {
            "_view_name": "HBoxView",
            "_dom_classes": [],
            "_model_name": "HBoxModel",
            "_view_module": "@jupyter-widgets/controls",
            "_model_module_version": "1.5.0",
            "_view_count": null,
            "_view_module_version": "1.5.0",
            "box_style": "",
            "layout": "IPY_MODEL_6aaa3321d97f4667ae2bbdeec19bb829",
            "_model_module": "@jupyter-widgets/controls",
            "children": [
              "IPY_MODEL_e2031518dacc4f3d86112722dfa1a8ba",
              "IPY_MODEL_3f1e58cd4f034c1a9f746a7a34d337ce",
              "IPY_MODEL_2548f1f1670644c7972f05943b3b9f0f"
            ]
          }
        },
        "6aaa3321d97f4667ae2bbdeec19bb829": {
          "model_module": "@jupyter-widgets/base",
          "model_name": "LayoutModel",
          "model_module_version": "1.2.0",
          "state": {
            "_view_name": "LayoutView",
            "grid_template_rows": null,
            "right": null,
            "justify_content": null,
            "_view_module": "@jupyter-widgets/base",
            "overflow": null,
            "_model_module_version": "1.2.0",
            "_view_count": null,
            "flex_flow": null,
            "width": null,
            "min_width": null,
            "border": null,
            "align_items": null,
            "bottom": null,
            "_model_module": "@jupyter-widgets/base",
            "top": null,
            "grid_column": null,
            "overflow_y": null,
            "overflow_x": null,
            "grid_auto_flow": null,
            "grid_area": null,
            "grid_template_columns": null,
            "flex": null,
            "_model_name": "LayoutModel",
            "justify_items": null,
            "grid_row": null,
            "max_height": null,
            "align_content": null,
            "visibility": null,
            "align_self": null,
            "height": null,
            "min_height": null,
            "padding": null,
            "grid_auto_rows": null,
            "grid_gap": null,
            "max_width": null,
            "order": null,
            "_view_module_version": "1.2.0",
            "grid_template_areas": null,
            "object_position": null,
            "object_fit": null,
            "grid_auto_columns": null,
            "margin": null,
            "display": null,
            "left": null
          }
        },
        "e2031518dacc4f3d86112722dfa1a8ba": {
          "model_module": "@jupyter-widgets/controls",
          "model_name": "HTMLModel",
          "model_module_version": "1.5.0",
          "state": {
            "_view_name": "HTMLView",
            "style": "IPY_MODEL_0de21b7753ad47f183ff72d20e88a442",
            "_dom_classes": [],
            "description": "",
            "_model_name": "HTMLModel",
            "placeholder": "​",
            "_view_module": "@jupyter-widgets/controls",
            "_model_module_version": "1.5.0",
            "value": "",
            "_view_count": null,
            "_view_module_version": "1.5.0",
            "description_tooltip": null,
            "_model_module": "@jupyter-widgets/controls",
            "layout": "IPY_MODEL_a8b5d1f389174da18f61b0a3b236be82"
          }
        },
        "3f1e58cd4f034c1a9f746a7a34d337ce": {
          "model_module": "@jupyter-widgets/controls",
          "model_name": "FloatProgressModel",
          "model_module_version": "1.5.0",
          "state": {
            "_view_name": "ProgressView",
            "style": "IPY_MODEL_a4151b9fda7a4ecb991e3a353a3a09bb",
            "_dom_classes": [],
            "description": "",
            "_model_name": "FloatProgressModel",
            "bar_style": "success",
            "max": 170498071,
            "_view_module": "@jupyter-widgets/controls",
            "_model_module_version": "1.5.0",
            "value": 170498071,
            "_view_count": null,
            "_view_module_version": "1.5.0",
            "orientation": "horizontal",
            "min": 0,
            "description_tooltip": null,
            "_model_module": "@jupyter-widgets/controls",
            "layout": "IPY_MODEL_f4c5f239f3504f9893de16594a79e527"
          }
        },
        "2548f1f1670644c7972f05943b3b9f0f": {
          "model_module": "@jupyter-widgets/controls",
          "model_name": "HTMLModel",
          "model_module_version": "1.5.0",
          "state": {
            "_view_name": "HTMLView",
            "style": "IPY_MODEL_223ec8d904f544bfa2956bcac3c4b46b",
            "_dom_classes": [],
            "description": "",
            "_model_name": "HTMLModel",
            "placeholder": "​",
            "_view_module": "@jupyter-widgets/controls",
            "_model_module_version": "1.5.0",
            "value": " 170499072/? [00:04&lt;00:00, 45565971.25it/s]",
            "_view_count": null,
            "_view_module_version": "1.5.0",
            "description_tooltip": null,
            "_model_module": "@jupyter-widgets/controls",
            "layout": "IPY_MODEL_50c3fb7851904e2a966675e77b6c6ee9"
          }
        },
        "0de21b7753ad47f183ff72d20e88a442": {
          "model_module": "@jupyter-widgets/controls",
          "model_name": "DescriptionStyleModel",
          "model_module_version": "1.5.0",
          "state": {
            "_view_name": "StyleView",
            "_model_name": "DescriptionStyleModel",
            "description_width": "",
            "_view_module": "@jupyter-widgets/base",
            "_model_module_version": "1.5.0",
            "_view_count": null,
            "_view_module_version": "1.2.0",
            "_model_module": "@jupyter-widgets/controls"
          }
        },
        "a8b5d1f389174da18f61b0a3b236be82": {
          "model_module": "@jupyter-widgets/base",
          "model_name": "LayoutModel",
          "model_module_version": "1.2.0",
          "state": {
            "_view_name": "LayoutView",
            "grid_template_rows": null,
            "right": null,
            "justify_content": null,
            "_view_module": "@jupyter-widgets/base",
            "overflow": null,
            "_model_module_version": "1.2.0",
            "_view_count": null,
            "flex_flow": null,
            "width": null,
            "min_width": null,
            "border": null,
            "align_items": null,
            "bottom": null,
            "_model_module": "@jupyter-widgets/base",
            "top": null,
            "grid_column": null,
            "overflow_y": null,
            "overflow_x": null,
            "grid_auto_flow": null,
            "grid_area": null,
            "grid_template_columns": null,
            "flex": null,
            "_model_name": "LayoutModel",
            "justify_items": null,
            "grid_row": null,
            "max_height": null,
            "align_content": null,
            "visibility": null,
            "align_self": null,
            "height": null,
            "min_height": null,
            "padding": null,
            "grid_auto_rows": null,
            "grid_gap": null,
            "max_width": null,
            "order": null,
            "_view_module_version": "1.2.0",
            "grid_template_areas": null,
            "object_position": null,
            "object_fit": null,
            "grid_auto_columns": null,
            "margin": null,
            "display": null,
            "left": null
          }
        },
        "a4151b9fda7a4ecb991e3a353a3a09bb": {
          "model_module": "@jupyter-widgets/controls",
          "model_name": "ProgressStyleModel",
          "model_module_version": "1.5.0",
          "state": {
            "_view_name": "StyleView",
            "_model_name": "ProgressStyleModel",
            "description_width": "",
            "_view_module": "@jupyter-widgets/base",
            "_model_module_version": "1.5.0",
            "_view_count": null,
            "_view_module_version": "1.2.0",
            "bar_color": null,
            "_model_module": "@jupyter-widgets/controls"
          }
        },
        "f4c5f239f3504f9893de16594a79e527": {
          "model_module": "@jupyter-widgets/base",
          "model_name": "LayoutModel",
          "model_module_version": "1.2.0",
          "state": {
            "_view_name": "LayoutView",
            "grid_template_rows": null,
            "right": null,
            "justify_content": null,
            "_view_module": "@jupyter-widgets/base",
            "overflow": null,
            "_model_module_version": "1.2.0",
            "_view_count": null,
            "flex_flow": null,
            "width": null,
            "min_width": null,
            "border": null,
            "align_items": null,
            "bottom": null,
            "_model_module": "@jupyter-widgets/base",
            "top": null,
            "grid_column": null,
            "overflow_y": null,
            "overflow_x": null,
            "grid_auto_flow": null,
            "grid_area": null,
            "grid_template_columns": null,
            "flex": null,
            "_model_name": "LayoutModel",
            "justify_items": null,
            "grid_row": null,
            "max_height": null,
            "align_content": null,
            "visibility": null,
            "align_self": null,
            "height": null,
            "min_height": null,
            "padding": null,
            "grid_auto_rows": null,
            "grid_gap": null,
            "max_width": null,
            "order": null,
            "_view_module_version": "1.2.0",
            "grid_template_areas": null,
            "object_position": null,
            "object_fit": null,
            "grid_auto_columns": null,
            "margin": null,
            "display": null,
            "left": null
          }
        },
        "223ec8d904f544bfa2956bcac3c4b46b": {
          "model_module": "@jupyter-widgets/controls",
          "model_name": "DescriptionStyleModel",
          "model_module_version": "1.5.0",
          "state": {
            "_view_name": "StyleView",
            "_model_name": "DescriptionStyleModel",
            "description_width": "",
            "_view_module": "@jupyter-widgets/base",
            "_model_module_version": "1.5.0",
            "_view_count": null,
            "_view_module_version": "1.2.0",
            "_model_module": "@jupyter-widgets/controls"
          }
        },
        "50c3fb7851904e2a966675e77b6c6ee9": {
          "model_module": "@jupyter-widgets/base",
          "model_name": "LayoutModel",
          "model_module_version": "1.2.0",
          "state": {
            "_view_name": "LayoutView",
            "grid_template_rows": null,
            "right": null,
            "justify_content": null,
            "_view_module": "@jupyter-widgets/base",
            "overflow": null,
            "_model_module_version": "1.2.0",
            "_view_count": null,
            "flex_flow": null,
            "width": null,
            "min_width": null,
            "border": null,
            "align_items": null,
            "bottom": null,
            "_model_module": "@jupyter-widgets/base",
            "top": null,
            "grid_column": null,
            "overflow_y": null,
            "overflow_x": null,
            "grid_auto_flow": null,
            "grid_area": null,
            "grid_template_columns": null,
            "flex": null,
            "_model_name": "LayoutModel",
            "justify_items": null,
            "grid_row": null,
            "max_height": null,
            "align_content": null,
            "visibility": null,
            "align_self": null,
            "height": null,
            "min_height": null,
            "padding": null,
            "grid_auto_rows": null,
            "grid_gap": null,
            "max_width": null,
            "order": null,
            "_view_module_version": "1.2.0",
            "grid_template_areas": null,
            "object_position": null,
            "object_fit": null,
            "grid_auto_columns": null,
            "margin": null,
            "display": null,
            "left": null
          }
        }
      }
    }
  },
  "cells": [
    {
      "cell_type": "markdown",
      "metadata": {
        "id": "mIDY0uSuHQ_c"
      },
      "source": [
        "# Вежба 1: Pytorch тензори и операции врз нив\n",
        "\n",
        "\n"
      ]
    },
    {
      "cell_type": "markdown",
      "metadata": {
        "id": "0Bae7LK7HWEE"
      },
      "source": [
        "Ја вчитуваме библиотеката и ја печатиме верзијата која ја користиме"
      ]
    },
    {
      "cell_type": "code",
      "metadata": {
        "colab": {
          "base_uri": "https://localhost:8080/"
        },
        "id": "c-i2jZnOG4DX",
        "outputId": "e0f63fb9-8092-435f-d1e3-e4aca5b7afa7"
      },
      "source": [
        "import torch\n",
        "print(torch.__version__)"
      ],
      "execution_count": null,
      "outputs": [
        {
          "output_type": "stream",
          "name": "stdout",
          "text": [
            "1.9.0+cu102\n"
          ]
        }
      ]
    },
    {
      "cell_type": "markdown",
      "metadata": {
        "id": "oLeS5KP8H4hE"
      },
      "source": [
        "Креираме тензор иницијализиран со вредности\n",
        "\n"
      ]
    },
    {
      "cell_type": "code",
      "metadata": {
        "colab": {
          "base_uri": "https://localhost:8080/"
        },
        "id": "AyYUeEnZHfq8",
        "outputId": "90f5329a-4280-467f-e208-2b8fadc4fac3"
      },
      "source": [
        "tensor = torch.Tensor([[[1,3],[3,5],[5,7]],[[7,9],[9,2],[2,4]]])\n"
      ],
      "execution_count": null,
      "outputs": [
        {
          "output_type": "execute_result",
          "data": {
            "text/plain": [
              "torch.Size([2, 3, 2])"
            ]
          },
          "metadata": {},
          "execution_count": 11
        }
      ]
    },
    {
      "cell_type": "markdown",
      "metadata": {
        "id": "YvM5-TDjICgT"
      },
      "source": [
        "Доколку сакаме да креираме тензор со димензии 2x2 со 4 неодредени вредности ја користиме следнава команда"
      ]
    },
    {
      "cell_type": "code",
      "metadata": {
        "id": "S5QHAOHzIB46"
      },
      "source": [
        "tensor_neinicijaliziran = torch.Tensor(2,2)"
      ],
      "execution_count": null,
      "outputs": []
    },
    {
      "cell_type": "markdown",
      "metadata": {
        "id": "d6QhO28zIetr"
      },
      "source": [
        "Бројот на елементи е 4."
      ]
    },
    {
      "cell_type": "code",
      "metadata": {
        "colab": {
          "base_uri": "https://localhost:8080/"
        },
        "id": "R6UuJntmIZ9T",
        "outputId": "2c9f5e5d-218c-4bfe-d6d0-2bc9fd0b555f"
      },
      "source": [
        "torch.numel(tensor_neinicijaliziran)"
      ],
      "execution_count": null,
      "outputs": [
        {
          "output_type": "execute_result",
          "data": {
            "text/plain": [
              "4"
            ]
          },
          "metadata": {},
          "execution_count": 10
        }
      ]
    },
    {
      "cell_type": "markdown",
      "metadata": {
        "id": "cN2zWj8oIva6"
      },
      "source": [
        "Можеме тензорот да го иницијализираме со случајни вредности на следниов начин"
      ]
    },
    {
      "cell_type": "code",
      "metadata": {
        "colab": {
          "base_uri": "https://localhost:8080/"
        },
        "id": "ghoviSV-IrVG",
        "outputId": "29328d65-27e4-4d46-c092-d11c3e7aa833"
      },
      "source": [
        "tensor_inicijaliziran = torch.randn(3,2)\n",
        "tensor_inicijaliziran"
      ],
      "execution_count": null,
      "outputs": [
        {
          "output_type": "execute_result",
          "data": {
            "text/plain": [
              "tensor([[ 0.7165, -0.2445],\n",
              "        [ 0.8064,  2.4885],\n",
              "        [ 0.4051,  0.5806]])"
            ]
          },
          "metadata": {},
          "execution_count": 13
        }
      ]
    },
    {
      "cell_type": "markdown",
      "metadata": {
        "id": "MG-WdVXFJCFz"
      },
      "source": [
        "Тензорот може да го иницијализираме и со вредности од даден податочен тип: int, long, byte"
      ]
    },
    {
      "cell_type": "code",
      "metadata": {
        "colab": {
          "base_uri": "https://localhost:8080/"
        },
        "id": "pOw1lzE9JA4o",
        "outputId": "6219371f-fee6-442d-90c3-206673910375"
      },
      "source": [
        "tensor_int = torch.randn(4,4).type(torch.IntTensor)\n",
        "tensor_int"
      ],
      "execution_count": null,
      "outputs": [
        {
          "output_type": "execute_result",
          "data": {
            "text/plain": [
              "tensor([[-1,  0,  0,  0],\n",
              "        [ 0,  0,  0,  0],\n",
              "        [ 1,  1,  0,  0],\n",
              "        [-1,  0,  0,  0]], dtype=torch.int32)"
            ]
          },
          "metadata": {},
          "execution_count": 15
        }
      ]
    },
    {
      "cell_type": "code",
      "metadata": {
        "colab": {
          "base_uri": "https://localhost:8080/"
        },
        "id": "k3VuwLMgOqOQ",
        "outputId": "05f3d8e3-ca4d-4e94-fbd6-d4c51c37c870"
      },
      "source": [
        "tensor_long = torch.LongTensor(2,2)\n",
        "tensor_long"
      ],
      "execution_count": null,
      "outputs": [
        {
          "output_type": "execute_result",
          "data": {
            "text/plain": [
              "tensor([[     94569881174080,                  24],\n",
              "        [       493921239039, 7589460822929338228]])"
            ]
          },
          "metadata": {},
          "execution_count": 16
        }
      ]
    },
    {
      "cell_type": "code",
      "metadata": {
        "id": "GTbKy8aEPPcA"
      },
      "source": [
        "Можеме да креираме и 1D тензор со 5 елементи и сите со вредност 1/0"
      ],
      "execution_count": null,
      "outputs": []
    },
    {
      "cell_type": "code",
      "metadata": {
        "colab": {
          "base_uri": "https://localhost:8080/"
        },
        "id": "EbmX9gLPPHT6",
        "outputId": "c3ed2619-56a6-41c9-db50-73ff5d0dfacd"
      },
      "source": [
        "tensor_edinici = torch.ones(5)\n",
        "tensor_edinici\n",
        "tensor_nuli = torch.zeros(5)\n",
        "tensor_nuli"
      ],
      "execution_count": null,
      "outputs": [
        {
          "output_type": "execute_result",
          "data": {
            "text/plain": [
              "tensor([0., 0., 0., 0., 0.])"
            ]
          },
          "metadata": {},
          "execution_count": 19
        }
      ]
    },
    {
      "cell_type": "markdown",
      "metadata": {
        "id": "omaMzDQGP3ck"
      },
      "source": [
        "Можеме да креираме матрица каде елементите од главната дијагонала имаат вредност 1 на следниов начин"
      ]
    },
    {
      "cell_type": "code",
      "metadata": {
        "colab": {
          "base_uri": "https://localhost:8080/"
        },
        "id": "ze7vl1MCQBpa",
        "outputId": "f9003972-7657-473b-fc2e-09702a074730"
      },
      "source": [
        "tensor_eye = torch.eye(3)\n",
        "tensor_eye"
      ],
      "execution_count": null,
      "outputs": [
        {
          "output_type": "execute_result",
          "data": {
            "text/plain": [
              "tensor([[1., 0., 0.],\n",
              "        [0., 1., 0.],\n",
              "        [0., 0., 1.]])"
            ]
          },
          "metadata": {},
          "execution_count": 22
        }
      ]
    },
    {
      "cell_type": "markdown",
      "metadata": {
        "id": "C6BZ03XuQHN4"
      },
      "source": [
        "За да ги добиеме индексите на елементите кои не се нула го користиме методот nonzero"
      ]
    },
    {
      "cell_type": "code",
      "metadata": {
        "colab": {
          "base_uri": "https://localhost:8080/"
        },
        "id": "chedlAVIQOe_",
        "outputId": "ffb2f7cf-7476-4175-d5eb-fd25ff8a7be7"
      },
      "source": [
        "non_zero = torch.nonzero(tensor_eye)\n",
        "non_zero"
      ],
      "execution_count": null,
      "outputs": [
        {
          "output_type": "execute_result",
          "data": {
            "text/plain": [
              "tensor([[0, 0],\n",
              "        [1, 1],\n",
              "        [2, 2]])"
            ]
          },
          "metadata": {},
          "execution_count": 24
        }
      ]
    },
    {
      "cell_type": "markdown",
      "metadata": {
        "id": "2jR4aw43QdFJ"
      },
      "source": [
        "Доколку сакаме да креираме тензор од единици со ист облик како некој друг тензор користиме"
      ]
    },
    {
      "cell_type": "code",
      "metadata": {
        "colab": {
          "base_uri": "https://localhost:8080/"
        },
        "id": "jnkNQffoQsYX",
        "outputId": "92daeaeb-a188-4904-a37f-f04ff9f57382"
      },
      "source": [
        "tensor_ones_shape_eye = torch.ones_like(tensor_eye)\n",
        "tensor_ones_shape_eye"
      ],
      "execution_count": null,
      "outputs": [
        {
          "output_type": "execute_result",
          "data": {
            "text/plain": [
              "tensor([[1., 1., 1.],\n",
              "        [1., 1., 1.],\n",
              "        [1., 1., 1.]])"
            ]
          },
          "metadata": {},
          "execution_count": 25
        }
      ]
    },
    {
      "cell_type": "markdown",
      "metadata": {
        "id": "chxWrbW_Q8Yq"
      },
      "source": [
        "За модификација на даден тензор може да користиме in-place операциии (се користат методи со _) кои го менуваат самиот тензор"
      ]
    },
    {
      "cell_type": "code",
      "metadata": {
        "colab": {
          "base_uri": "https://localhost:8080/"
        },
        "id": "wxO0Mk55RH83",
        "outputId": "a07666de-3e17-49b1-8880-58d0682eb7d4"
      },
      "source": [
        "inicijalen_tensor = torch.rand(2,2)\n",
        "inicijalen_tensor.fill_(3)"
      ],
      "execution_count": null,
      "outputs": [
        {
          "output_type": "execute_result",
          "data": {
            "text/plain": [
              "tensor([[3., 3.],\n",
              "        [3., 3.]])"
            ]
          },
          "metadata": {},
          "execution_count": 26
        }
      ]
    },
    {
      "cell_type": "markdown",
      "metadata": {
        "id": "GxBgETeaRiaj"
      },
      "source": [
        "Да изведеме математичка операција врз inicijalen_tensor. Може да приметиме дека оваа е out-of-place операција бидејќи не го модификува постоечкит тензор, туку креира нов тензор"
      ]
    },
    {
      "cell_type": "code",
      "metadata": {
        "colab": {
          "base_uri": "https://localhost:8080/"
        },
        "id": "jQ-XAqAhRmhJ",
        "outputId": "4aadeb7d-b440-40e0-9507-15c154960a79"
      },
      "source": [
        "nov_tensor = inicijalen_tensor.add(4)\n",
        "nov_tensor"
      ],
      "execution_count": null,
      "outputs": [
        {
          "output_type": "execute_result",
          "data": {
            "text/plain": [
              "tensor([[7., 7.],\n",
              "        [7., 7.]])"
            ]
          },
          "metadata": {},
          "execution_count": 27
        }
      ]
    },
    {
      "cell_type": "markdown",
      "metadata": {
        "id": "reoKPW3HR-k8"
      },
      "source": [
        "Истата операција можеме да ја направиме и in-place"
      ]
    },
    {
      "cell_type": "code",
      "metadata": {
        "colab": {
          "base_uri": "https://localhost:8080/"
        },
        "id": "M60hEsh8SG63",
        "outputId": "e73165ad-c81b-4a51-adaa-f47642f02fd1"
      },
      "source": [
        "inicijalen_tensor.add_(4)\n",
        "inicijalen_tensor"
      ],
      "execution_count": null,
      "outputs": [
        {
          "output_type": "execute_result",
          "data": {
            "text/plain": [
              "tensor([[7., 7.],\n",
              "        [7., 7.]])"
            ]
          },
          "metadata": {},
          "execution_count": 28
        }
      ]
    },
    {
      "cell_type": "markdown",
      "metadata": {
        "id": "R2snc2M8SeJS"
      },
      "source": [
        "Многу лесно можеме да креираме тензор од numpy поле на следниов начин"
      ]
    },
    {
      "cell_type": "code",
      "metadata": {
        "colab": {
          "base_uri": "https://localhost:8080/"
        },
        "id": "ZDAZw1QwSleZ",
        "outputId": "8ce9c5b2-fe77-441e-ca22-36f47abb6694"
      },
      "source": [
        "import numpy as np\n",
        "arr = np.array([5, 6, 7])\n",
        "arr"
      ],
      "execution_count": null,
      "outputs": [
        {
          "output_type": "execute_result",
          "data": {
            "text/plain": [
              "array([5, 6, 7])"
            ]
          },
          "metadata": {},
          "execution_count": 33
        }
      ]
    },
    {
      "cell_type": "code",
      "metadata": {
        "colab": {
          "base_uri": "https://localhost:8080/"
        },
        "id": "JrXqmFwhSu5n",
        "outputId": "593808a3-c779-4384-8103-0a2b08d7b925"
      },
      "source": [
        "tensor = torch.from_numpy(arr)\n",
        "tensor"
      ],
      "execution_count": null,
      "outputs": [
        {
          "output_type": "execute_result",
          "data": {
            "text/plain": [
              "tensor([5, 6, 7])"
            ]
          },
          "metadata": {},
          "execution_count": 34
        }
      ]
    },
    {
      "cell_type": "markdown",
      "metadata": {
        "id": "QEpFpDzyS3AX"
      },
      "source": [
        "Дополнително, можеме тензорот да го претвориме во numpy поле на следниов начин"
      ]
    },
    {
      "cell_type": "code",
      "metadata": {
        "colab": {
          "base_uri": "https://localhost:8080/"
        },
        "id": "yU_asEDOS82P",
        "outputId": "c959f39f-d445-4185-92df-a5d1a268b72e"
      },
      "source": [
        "numpy_od_tensor = tensor.numpy()\n",
        "numpy_od_tensor"
      ],
      "execution_count": null,
      "outputs": [
        {
          "output_type": "execute_result",
          "data": {
            "text/plain": [
              "array([5, 6, 7])"
            ]
          },
          "metadata": {},
          "execution_count": 35
        }
      ]
    },
    {
      "cell_type": "markdown",
      "metadata": {
        "id": "BV-VsBtrTMIf"
      },
      "source": [
        "Можеме да го промениме вториот елемент во numpy полето на следниов начин"
      ]
    },
    {
      "cell_type": "code",
      "metadata": {
        "colab": {
          "base_uri": "https://localhost:8080/"
        },
        "id": "B8hEp7FWTSpo",
        "outputId": "7a7559eb-0180-49f3-be56-620c914a5e4e"
      },
      "source": [
        "arr[1]=3\n",
        "arr"
      ],
      "execution_count": null,
      "outputs": [
        {
          "output_type": "execute_result",
          "data": {
            "text/plain": [
              "array([5, 3, 7])"
            ]
          },
          "metadata": {},
          "execution_count": 36
        }
      ]
    },
    {
      "cell_type": "markdown",
      "metadata": {
        "id": "kb_nyzyKTaZm"
      },
      "source": [
        "Сега ако ги испечатите вредностите на тензорот погледнете ги вредностите. Што заклучувате? Дали овие две променливи делат иста меморија?"
      ]
    },
    {
      "cell_type": "code",
      "metadata": {
        "colab": {
          "base_uri": "https://localhost:8080/"
        },
        "id": "jxWmXaKsTlGZ",
        "outputId": "43b44339-3e4b-460b-acea-d9d79b0353c2"
      },
      "source": [
        "tensor"
      ],
      "execution_count": null,
      "outputs": [
        {
          "output_type": "execute_result",
          "data": {
            "text/plain": [
              "tensor([5, 3, 7])"
            ]
          },
          "metadata": {},
          "execution_count": 37
        }
      ]
    },
    {
      "cell_type": "code",
      "metadata": {
        "colab": {
          "base_uri": "https://localhost:8080/"
        },
        "id": "RM0IfBgoTsEg",
        "outputId": "a14d48c9-a21c-4289-c04f-d97d5df70dab"
      },
      "source": [
        "numpy_od_tensor"
      ],
      "execution_count": null,
      "outputs": [
        {
          "output_type": "execute_result",
          "data": {
            "text/plain": [
              "array([5, 3, 7])"
            ]
          },
          "metadata": {},
          "execution_count": 38
        }
      ]
    },
    {
      "cell_type": "markdown",
      "metadata": {
        "id": "WrfkUzFxTvDo"
      },
      "source": [
        "До елементите на еден тензор може да пристапиме слично како кај NumPy полиња. Во следниов пример пристапуваме до елементот од редот со индекс 1 и колоната со индекс 2"
      ]
    },
    {
      "cell_type": "code",
      "metadata": {
        "colab": {
          "base_uri": "https://localhost:8080/"
        },
        "id": "PgNomxD6REFn",
        "outputId": "39dc45ad-fe15-4878-bb6a-7d0056e7497a"
      },
      "source": [
        "inicijalen_tensor = torch.rand(2,3)\n",
        "inicijalen_tensor[1,2]"
      ],
      "execution_count": null,
      "outputs": [
        {
          "output_type": "execute_result",
          "data": {
            "text/plain": [
              "tensor(0.6206)"
            ]
          },
          "metadata": {},
          "execution_count": 3
        }
      ]
    },
    {
      "cell_type": "markdown",
      "metadata": {
        "id": "x-TSkFKVS4ZS"
      },
      "source": [
        "Да ги земеме елементите од сите редици и од колоните со почетен индекс 1 и поголем"
      ]
    },
    {
      "cell_type": "code",
      "metadata": {
        "colab": {
          "base_uri": "https://localhost:8080/"
        },
        "id": "7xTPAWfcS1Lz",
        "outputId": "b7516523-598d-41ea-a358-7e96af9e8766"
      },
      "source": [
        "inicijalen_tensor[:,1:]"
      ],
      "execution_count": null,
      "outputs": [
        {
          "output_type": "execute_result",
          "data": {
            "text/plain": [
              "tensor([[0.0617, 0.3150],\n",
              "        [0.3605, 0.6206]])"
            ]
          },
          "metadata": {},
          "execution_count": 4
        }
      ]
    },
    {
      "cell_type": "markdown",
      "metadata": {
        "id": "A9arLlCWTIet"
      },
      "source": [
        "Можеме да ги видиме димензиите на тензорот"
      ]
    },
    {
      "cell_type": "code",
      "metadata": {
        "colab": {
          "base_uri": "https://localhost:8080/"
        },
        "id": "Lp0gS8ndTEtV",
        "outputId": "f9d4e7be-5c95-4aae-eb7a-621f1da362da"
      },
      "source": [
        "inicijalen_tensor.size() #metod\n",
        "inicijalen_tensor.shape #својство"
      ],
      "execution_count": null,
      "outputs": [
        {
          "output_type": "execute_result",
          "data": {
            "text/plain": [
              "torch.Size([2, 3])"
            ]
          },
          "metadata": {},
          "execution_count": 7
        }
      ]
    },
    {
      "cell_type": "markdown",
      "metadata": {
        "id": "SHUp4FUBTY6K"
      },
      "source": [
        "Можеме да креирам тензор со истите вредности како inicijalen_tensor, но со различни димензии. Примерот, од оригиналниот 2D тензор креира 1D тензор со 6 елементи.\n"
      ]
    },
    {
      "cell_type": "code",
      "metadata": {
        "colab": {
          "base_uri": "https://localhost:8080/"
        },
        "id": "HBPUKDLvTfkJ",
        "outputId": "e26cf451-3264-4a5e-929e-3e16b915505c"
      },
      "source": [
        "promenet_tensor = inicijalen_tensor.view(6)\n",
        "promenet_tensor"
      ],
      "execution_count": null,
      "outputs": [
        {
          "output_type": "execute_result",
          "data": {
            "text/plain": [
              "tensor([0.1654, 0.0617, 0.3150, 0.3073, 0.3605, 0.6206])"
            ]
          },
          "metadata": {},
          "execution_count": 8
        }
      ]
    },
    {
      "cell_type": "markdown",
      "metadata": {
        "id": "F3Tw07dAT9ly"
      },
      "source": [
        "Ако промените елемент во оригиналниот тензор, ќе се примени и вредноста на елементот во promenet_tensor"
      ]
    },
    {
      "cell_type": "code",
      "metadata": {
        "colab": {
          "base_uri": "https://localhost:8080/"
        },
        "id": "-bxg3T1sT-FP",
        "outputId": "51a0fa04-c0e7-4da5-818d-b56ba22a13ee"
      },
      "source": [
        "inicijalen_tensor[1,2]=0\n",
        "promenet_tensor"
      ],
      "execution_count": null,
      "outputs": [
        {
          "output_type": "execute_result",
          "data": {
            "text/plain": [
              "tensor([0.1654, 0.0617, 0.3150, 0.3073, 0.3605, 0.0000])"
            ]
          },
          "metadata": {},
          "execution_count": 9
        }
      ]
    },
    {
      "cell_type": "markdown",
      "metadata": {
        "id": "g1pA2f0DUTSa"
      },
      "source": [
        "Исто така можеме да ги промениме димензиите на даден тензор со тоа што ќе ја специфицираме само едната димензија, а другата ќе ја поставиме на -1"
      ]
    },
    {
      "cell_type": "code",
      "metadata": {
        "colab": {
          "base_uri": "https://localhost:8080/"
        },
        "id": "1T8tyyJ7UcOB",
        "outputId": "8227b5de-fec8-42dd-b7f3-09f8d79cc451"
      },
      "source": [
        "promeneta_matrica = inicijalen_tensor.view(-1,2)\n",
        "promeneta_matrica.shape"
      ],
      "execution_count": null,
      "outputs": [
        {
          "output_type": "execute_result",
          "data": {
            "text/plain": [
              "torch.Size([3, 2])"
            ]
          },
          "metadata": {},
          "execution_count": 12
        }
      ]
    },
    {
      "cell_type": "markdown",
      "metadata": {
        "id": "9Gr0qtwMUp9a"
      },
      "source": [
        "Разгледајте ја грешката во наредниот код и објаснете зошто се случила"
      ]
    },
    {
      "cell_type": "code",
      "metadata": {
        "colab": {
          "base_uri": "https://localhost:8080/",
          "height": 183
        },
        "id": "Kt4FgY6rUv9T",
        "outputId": "8ad21048-1d9d-485c-ef96-3f7ea01e53c9"
      },
      "source": [
        "promeneta_matrica = inicijalen_tensor.view(-1,5)\n",
        "promeneta_matrica.shape"
      ],
      "execution_count": null,
      "outputs": [
        {
          "output_type": "error",
          "ename": "RuntimeError",
          "evalue": "ignored",
          "traceback": [
            "\u001b[0;31m---------------------------------------------------------------------------\u001b[0m",
            "\u001b[0;31mRuntimeError\u001b[0m                              Traceback (most recent call last)",
            "\u001b[0;32m<ipython-input-13-5f25842d48b6>\u001b[0m in \u001b[0;36m<module>\u001b[0;34m()\u001b[0m\n\u001b[0;32m----> 1\u001b[0;31m \u001b[0mpromeneta_matrica\u001b[0m \u001b[0;34m=\u001b[0m \u001b[0minicijalen_tensor\u001b[0m\u001b[0;34m.\u001b[0m\u001b[0mview\u001b[0m\u001b[0;34m(\u001b[0m\u001b[0;34m-\u001b[0m\u001b[0;36m1\u001b[0m\u001b[0;34m,\u001b[0m\u001b[0;36m5\u001b[0m\u001b[0;34m)\u001b[0m\u001b[0;34m\u001b[0m\u001b[0;34m\u001b[0m\u001b[0m\n\u001b[0m\u001b[1;32m      2\u001b[0m \u001b[0mpromeneta_matrica\u001b[0m\u001b[0;34m.\u001b[0m\u001b[0mshape\u001b[0m\u001b[0;34m\u001b[0m\u001b[0;34m\u001b[0m\u001b[0m\n",
            "\u001b[0;31mRuntimeError\u001b[0m: shape '[-1, 5]' is invalid for input of size 6"
          ]
        }
      ]
    },
    {
      "cell_type": "markdown",
      "metadata": {
        "id": "41Jop7vZU5By"
      },
      "source": [
        "Дополнително, можеме да ги подредиме вредностите на даден тензор по посакуваната димензија. Сортирањето предодредено е во рамки на редица по растечки редослед"
      ]
    },
    {
      "cell_type": "code",
      "metadata": {
        "colab": {
          "base_uri": "https://localhost:8080/"
        },
        "id": "hSAbo5z2U_IL",
        "outputId": "01909e76-02a8-4abf-c1f8-889821ca976e"
      },
      "source": [
        "sortiran_tenzor, sortirani_indeksi = torch.sort(inicijalen_tensor)\n",
        "sortiran_tenzor"
      ],
      "execution_count": null,
      "outputs": [
        {
          "output_type": "execute_result",
          "data": {
            "text/plain": [
              "tensor([[0.0617, 0.1654, 0.3150],\n",
              "        [0.0000, 0.3073, 0.3605]])"
            ]
          },
          "metadata": {},
          "execution_count": 16
        }
      ]
    },
    {
      "cell_type": "code",
      "metadata": {
        "colab": {
          "base_uri": "https://localhost:8080/"
        },
        "id": "DZ_Gmlf8VG21",
        "outputId": "150a343f-d4fb-4ace-fb80-6517256b1194"
      },
      "source": [
        "sortirani_indeksi"
      ],
      "execution_count": null,
      "outputs": [
        {
          "output_type": "execute_result",
          "data": {
            "text/plain": [
              "tensor([[1, 0, 2],\n",
              "        [2, 0, 1]])"
            ]
          },
          "metadata": {},
          "execution_count": 17
        }
      ]
    },
    {
      "cell_type": "markdown",
      "metadata": {
        "id": "r_wCv7ROVe39"
      },
      "source": [
        "Да извршиме сортирање во рамки на колони"
      ]
    },
    {
      "cell_type": "code",
      "metadata": {
        "colab": {
          "base_uri": "https://localhost:8080/"
        },
        "id": "ypN5QC1uViU4",
        "outputId": "bb06737a-1d13-4131-dc09-7928be2c3270"
      },
      "source": [
        "sortiran_tenzor, sortirani_indeksi = torch.sort(inicijalen_tensor, dim=0)\n",
        "sortiran_tenzor"
      ],
      "execution_count": null,
      "outputs": [
        {
          "output_type": "execute_result",
          "data": {
            "text/plain": [
              "tensor([[0.1654, 0.0617, 0.0000],\n",
              "        [0.3073, 0.3605, 0.3150]])"
            ]
          },
          "metadata": {},
          "execution_count": 19
        }
      ]
    },
    {
      "cell_type": "code",
      "metadata": {
        "colab": {
          "base_uri": "https://localhost:8080/"
        },
        "id": "HHO5XfoXVpy4",
        "outputId": "43d08e04-2b6c-4c6e-c283-fecb9533f658"
      },
      "source": [
        "sortirani_indeksi"
      ],
      "execution_count": null,
      "outputs": [
        {
          "output_type": "execute_result",
          "data": {
            "text/plain": [
              "tensor([[0, 0, 1],\n",
              "        [1, 1, 0]])"
            ]
          },
          "metadata": {},
          "execution_count": 20
        }
      ]
    },
    {
      "cell_type": "markdown",
      "metadata": {
        "id": "cvgR-ywKzWmn"
      },
      "source": [
        "\n",
        "# Вежба 2: Autograd во Pytorch"
      ]
    },
    {
      "cell_type": "markdown",
      "metadata": {
        "id": "Cu6E1NEc0EiL"
      },
      "source": [
        "Креираме случајни вредности за x, каде y = 20*x + 5 (станува збор за линеарен модел)"
      ]
    },
    {
      "cell_type": "code",
      "metadata": {
        "colab": {
          "base_uri": "https://localhost:8080/"
        },
        "id": "X9FO0ecjzfit",
        "outputId": "e9db9904-c32a-4b55-efd4-f99530ac9bef"
      },
      "source": [
        "import torch\n",
        "import numpy as np\n",
        "import random\n",
        "x = torch.tensor(np.arange(1,100,1))\n",
        "y = (x*20+5+random.randint(-2,3)).reshape(-1)\n",
        "print(\"shape of x: \",x.shape)\n",
        "print(\"shape of y: \",y.shape)"
      ],
      "execution_count": 28,
      "outputs": [
        {
          "output_type": "stream",
          "name": "stdout",
          "text": [
            "shape of x:  torch.Size([99])\n",
            "shape of y:  torch.Size([99])\n"
          ]
        }
      ]
    },
    {
      "cell_type": "markdown",
      "metadata": {
        "id": "Eb057Gf71Np-"
      },
      "source": [
        "Правиме иницијализација на тежинити и bias го нагодуваме на нула. Го нагодуваме require_grad да биде true"
      ]
    },
    {
      "cell_type": "code",
      "metadata": {
        "id": "wDwcywwA1T4l"
      },
      "source": [
        "w = torch.tensor(0.,requires_grad=True)\n",
        "b = torch.tensor(0.,requires_grad=True)"
      ],
      "execution_count": 33,
      "outputs": []
    },
    {
      "cell_type": "code",
      "metadata": {
        "id": "hZdilkKv1esc"
      },
      "source": [
        "epochs = 100 #бројот на итерации е 100"
      ],
      "execution_count": 34,
      "outputs": []
    },
    {
      "cell_type": "markdown",
      "metadata": {
        "id": "fnw41-jR2JAN"
      },
      "source": [
        "Дефинираме forward јамка, каде ги правиме предвидувањата, ја пресметуваме загубата, пресметуваме извод на загубата во однос на W и b, за да го пресметаме градиентот и ги ажурираме параметрите. Ова го правиме 100 пати"
      ]
    },
    {
      "cell_type": "code",
      "metadata": {
        "colab": {
          "base_uri": "https://localhost:8080/"
        },
        "id": "K8AS6wNx2gKo",
        "outputId": "46afaff4-e9ac-40c9-8cc7-13e88f16807d"
      },
      "source": [
        "losses = []\n",
        "learning_rate = 0.0001\n",
        "for i in range(epochs):\n",
        "  #ги правиме предвидувањата\n",
        "  y_pred = ((x*w)+b)\n",
        "  y_pred.reshape(-1)\n",
        " \n",
        "  #ја пресметуваме загубат\n",
        "  loss = torch.square(y_pred - y).mean()\n",
        "  losses.append(loss)\n",
        "  #gradient descent\n",
        "  loss.backward()\n",
        "  with torch.no_grad():\n",
        "    w  -= w.grad*learning_rate\n",
        "    b  -= b.grad*learning_rate\n",
        "  w.grad.zero_()\n",
        "  b.grad.zero_()\n",
        "#ја печатиме загубата\n",
        "  print(loss)\n"
      ],
      "execution_count": 35,
      "outputs": [
        {
          "output_type": "stream",
          "name": "stdout",
          "text": [
            "tensor(1342730.6250, grad_fn=<MeanBackward0>)\n",
            "tensor(152067.6719, grad_fn=<MeanBackward0>)\n",
            "tensor(17233.5410, grad_fn=<MeanBackward0>)\n",
            "tensor(1964.5060, grad_fn=<MeanBackward0>)\n",
            "tensor(235.3959, grad_fn=<MeanBackward0>)\n",
            "tensor(39.5849, grad_fn=<MeanBackward0>)\n",
            "tensor(17.4098, grad_fn=<MeanBackward0>)\n",
            "tensor(14.8972, grad_fn=<MeanBackward0>)\n",
            "tensor(14.6114, grad_fn=<MeanBackward0>)\n",
            "tensor(14.5777, grad_fn=<MeanBackward0>)\n",
            "tensor(14.5726, grad_fn=<MeanBackward0>)\n",
            "tensor(14.5709, grad_fn=<MeanBackward0>)\n",
            "tensor(14.5695, grad_fn=<MeanBackward0>)\n",
            "tensor(14.5679, grad_fn=<MeanBackward0>)\n",
            "tensor(14.5665, grad_fn=<MeanBackward0>)\n",
            "tensor(14.5651, grad_fn=<MeanBackward0>)\n",
            "tensor(14.5637, grad_fn=<MeanBackward0>)\n",
            "tensor(14.5622, grad_fn=<MeanBackward0>)\n",
            "tensor(14.5607, grad_fn=<MeanBackward0>)\n",
            "tensor(14.5593, grad_fn=<MeanBackward0>)\n",
            "tensor(14.5580, grad_fn=<MeanBackward0>)\n",
            "tensor(14.5566, grad_fn=<MeanBackward0>)\n",
            "tensor(14.5551, grad_fn=<MeanBackward0>)\n",
            "tensor(14.5536, grad_fn=<MeanBackward0>)\n",
            "tensor(14.5522, grad_fn=<MeanBackward0>)\n",
            "tensor(14.5508, grad_fn=<MeanBackward0>)\n",
            "tensor(14.5493, grad_fn=<MeanBackward0>)\n",
            "tensor(14.5479, grad_fn=<MeanBackward0>)\n",
            "tensor(14.5464, grad_fn=<MeanBackward0>)\n",
            "tensor(14.5449, grad_fn=<MeanBackward0>)\n",
            "tensor(14.5437, grad_fn=<MeanBackward0>)\n",
            "tensor(14.5422, grad_fn=<MeanBackward0>)\n",
            "tensor(14.5408, grad_fn=<MeanBackward0>)\n",
            "tensor(14.5393, grad_fn=<MeanBackward0>)\n",
            "tensor(14.5378, grad_fn=<MeanBackward0>)\n",
            "tensor(14.5364, grad_fn=<MeanBackward0>)\n",
            "tensor(14.5350, grad_fn=<MeanBackward0>)\n",
            "tensor(14.5336, grad_fn=<MeanBackward0>)\n",
            "tensor(14.5321, grad_fn=<MeanBackward0>)\n",
            "tensor(14.5306, grad_fn=<MeanBackward0>)\n",
            "tensor(14.5293, grad_fn=<MeanBackward0>)\n",
            "tensor(14.5279, grad_fn=<MeanBackward0>)\n",
            "tensor(14.5265, grad_fn=<MeanBackward0>)\n",
            "tensor(14.5250, grad_fn=<MeanBackward0>)\n",
            "tensor(14.5235, grad_fn=<MeanBackward0>)\n",
            "tensor(14.5221, grad_fn=<MeanBackward0>)\n",
            "tensor(14.5207, grad_fn=<MeanBackward0>)\n",
            "tensor(14.5193, grad_fn=<MeanBackward0>)\n",
            "tensor(14.5178, grad_fn=<MeanBackward0>)\n",
            "tensor(14.5163, grad_fn=<MeanBackward0>)\n",
            "tensor(14.5149, grad_fn=<MeanBackward0>)\n",
            "tensor(14.5136, grad_fn=<MeanBackward0>)\n",
            "tensor(14.5122, grad_fn=<MeanBackward0>)\n",
            "tensor(14.5107, grad_fn=<MeanBackward0>)\n",
            "tensor(14.5092, grad_fn=<MeanBackward0>)\n",
            "tensor(14.5078, grad_fn=<MeanBackward0>)\n",
            "tensor(14.5064, grad_fn=<MeanBackward0>)\n",
            "tensor(14.5050, grad_fn=<MeanBackward0>)\n",
            "tensor(14.5035, grad_fn=<MeanBackward0>)\n",
            "tensor(14.5021, grad_fn=<MeanBackward0>)\n",
            "tensor(14.5006, grad_fn=<MeanBackward0>)\n",
            "tensor(14.4993, grad_fn=<MeanBackward0>)\n",
            "tensor(14.4979, grad_fn=<MeanBackward0>)\n",
            "tensor(14.4965, grad_fn=<MeanBackward0>)\n",
            "tensor(14.4950, grad_fn=<MeanBackward0>)\n",
            "tensor(14.4935, grad_fn=<MeanBackward0>)\n",
            "tensor(14.4921, grad_fn=<MeanBackward0>)\n",
            "tensor(14.4907, grad_fn=<MeanBackward0>)\n",
            "tensor(14.4893, grad_fn=<MeanBackward0>)\n",
            "tensor(14.4878, grad_fn=<MeanBackward0>)\n",
            "tensor(14.4863, grad_fn=<MeanBackward0>)\n",
            "tensor(14.4849, grad_fn=<MeanBackward0>)\n",
            "tensor(14.4836, grad_fn=<MeanBackward0>)\n",
            "tensor(14.4822, grad_fn=<MeanBackward0>)\n",
            "tensor(14.4807, grad_fn=<MeanBackward0>)\n",
            "tensor(14.4793, grad_fn=<MeanBackward0>)\n",
            "tensor(14.4778, grad_fn=<MeanBackward0>)\n",
            "tensor(14.4764, grad_fn=<MeanBackward0>)\n",
            "tensor(14.4750, grad_fn=<MeanBackward0>)\n",
            "tensor(14.4736, grad_fn=<MeanBackward0>)\n",
            "tensor(14.4721, grad_fn=<MeanBackward0>)\n",
            "tensor(14.4707, grad_fn=<MeanBackward0>)\n",
            "tensor(14.4694, grad_fn=<MeanBackward0>)\n",
            "tensor(14.4680, grad_fn=<MeanBackward0>)\n",
            "tensor(14.4665, grad_fn=<MeanBackward0>)\n",
            "tensor(14.4650, grad_fn=<MeanBackward0>)\n",
            "tensor(14.4636, grad_fn=<MeanBackward0>)\n",
            "tensor(14.4622, grad_fn=<MeanBackward0>)\n",
            "tensor(14.4608, grad_fn=<MeanBackward0>)\n",
            "tensor(14.4593, grad_fn=<MeanBackward0>)\n",
            "tensor(14.4579, grad_fn=<MeanBackward0>)\n",
            "tensor(14.4564, grad_fn=<MeanBackward0>)\n",
            "tensor(14.4550, grad_fn=<MeanBackward0>)\n",
            "tensor(14.4537, grad_fn=<MeanBackward0>)\n",
            "tensor(14.4523, grad_fn=<MeanBackward0>)\n",
            "tensor(14.4509, grad_fn=<MeanBackward0>)\n",
            "tensor(14.4494, grad_fn=<MeanBackward0>)\n",
            "tensor(14.4479, grad_fn=<MeanBackward0>)\n",
            "tensor(14.4465, grad_fn=<MeanBackward0>)\n",
            "tensor(14.4451, grad_fn=<MeanBackward0>)\n"
          ]
        }
      ]
    },
    {
      "cell_type": "markdown",
      "metadata": {
        "id": "C6CRVXg42kk3"
      },
      "source": [
        "Ги печатиме финалните вредноста на W и b"
      ]
    },
    {
      "cell_type": "code",
      "metadata": {
        "colab": {
          "base_uri": "https://localhost:8080/"
        },
        "id": "SVAw0DvP2ni5",
        "outputId": "aff8edd8-f775-4095-db13-852fefbdd188"
      },
      "source": [
        "print(w.item(),b.item())"
      ],
      "execution_count": 36,
      "outputs": [
        {
          "output_type": "stream",
          "name": "stdout",
          "text": [
            "20.115468978881836 0.3410821855068207\n"
          ]
        }
      ]
    },
    {
      "cell_type": "markdown",
      "metadata": {
        "id": "bVwAkEaq36AG"
      },
      "source": [
        "**Заклучок**: Ја искористивме Autograd функцијата за да ги одредиме параметрите W и b на овој линеарен модел"
      ]
    },
    {
      "cell_type": "markdown",
      "metadata": {
        "id": "IA18BzKF5Z91"
      },
      "source": [
        "# Вежба 3: LSTM во Pytorch"
      ]
    },
    {
      "cell_type": "markdown",
      "metadata": {
        "id": "pNNQLbIn5y1D"
      },
      "source": [
        "Проблемот кој ќе го решаваме во овој пример е предвидување на бројот на патници на месечно ниво. Односно, доколку е дадена годината и месецот, треба да го предвидиме бројот во илјади.\n",
        "Најпрвин го симнуваме податочното множество"
      ]
    },
    {
      "cell_type": "code",
      "metadata": {
        "colab": {
          "base_uri": "https://localhost:8080/"
        },
        "id": "JnisGL8e5fgE",
        "outputId": "f8d125cd-a3e4-4531-fe93-4fbaec7d2cd3"
      },
      "source": [
        "!wget https://raw.githubusercontent.com/jbrownlee/Datasets/master/airline-passengers.csv"
      ],
      "execution_count": 37,
      "outputs": [
        {
          "output_type": "stream",
          "name": "stdout",
          "text": [
            "--2021-10-30 20:55:20--  https://raw.githubusercontent.com/jbrownlee/Datasets/master/airline-passengers.csv\n",
            "Resolving raw.githubusercontent.com (raw.githubusercontent.com)... 185.199.110.133, 185.199.108.133, 185.199.109.133, ...\n",
            "Connecting to raw.githubusercontent.com (raw.githubusercontent.com)|185.199.110.133|:443... connected.\n",
            "HTTP request sent, awaiting response... 200 OK\n",
            "Length: 2180 (2.1K) [text/plain]\n",
            "Saving to: ‘airline-passengers.csv’\n",
            "\n",
            "\rairline-passengers.   0%[                    ]       0  --.-KB/s               \rairline-passengers. 100%[===================>]   2.13K  --.-KB/s    in 0s      \n",
            "\n",
            "2021-10-30 20:55:20 (46.1 MB/s) - ‘airline-passengers.csv’ saved [2180/2180]\n",
            "\n"
          ]
        }
      ]
    },
    {
      "cell_type": "markdown",
      "metadata": {
        "id": "Aigk3juw_NPc"
      },
      "source": [
        "Потоа го вчитуваме и го прикажуваме истото"
      ]
    },
    {
      "cell_type": "code",
      "metadata": {
        "colab": {
          "base_uri": "https://localhost:8080/",
          "height": 265
        },
        "id": "Vu8LiXm4_SmT",
        "outputId": "a458cd17-1568-43e9-e99a-3d794f9cd293"
      },
      "source": [
        "import numpy as np\n",
        "import matplotlib.pyplot as plt\n",
        "import pandas as pd\n",
        "import torch\n",
        "import torch.nn as nn\n",
        "from torch.autograd import Variable\n",
        "from sklearn.preprocessing import MinMaxScaler\n",
        "training_set = pd.read_csv('airline-passengers.csv')\n",
        "#training_set = pd.read_csv('shampoo.csv')\n",
        "\n",
        "training_set = training_set.iloc[:,1:2].values\n",
        "\n",
        "#plt.plot(training_set, label = 'Shampoo Sales Data')\n",
        "plt.plot(training_set, label = 'Airline Passangers Data')\n",
        "plt.show()"
      ],
      "execution_count": 43,
      "outputs": [
        {
          "output_type": "display_data",
          "data": {
            "image/png": "[encoded data removed]",
            "text/plain": [
              "<Figure size 432x288 with 1 Axes>"
            ]
          },
          "metadata": {
            "needs_background": "light"
          }
        }
      ]
    },
    {
      "cell_type": "markdown",
      "metadata": {
        "id": "ypIGpf9x_lTA"
      },
      "source": [
        "Креираме податочно множество за тренирање и тестирање. Прозорецот кој го користиме е 4 месеци."
      ]
    },
    {
      "cell_type": "code",
      "metadata": {
        "id": "dc5TRNPE_kcW"
      },
      "source": [
        "def sliding_windows(data, seq_length):\n",
        "    x = []\n",
        "    y = []\n",
        "\n",
        "    for i in range(len(data)-seq_length-1):\n",
        "        _x = data[i:(i+seq_length)]\n",
        "        _y = data[i+seq_length]\n",
        "        x.append(_x)\n",
        "        y.append(_y)\n",
        "\n",
        "    return np.array(x),np.array(y)\n",
        "\n",
        "sc = MinMaxScaler()\n",
        "training_data = sc.fit_transform(training_set)\n",
        "\n",
        "seq_length = 4\n",
        "x, y = sliding_windows(training_data, seq_length)\n",
        "\n",
        "train_size = int(len(y) * 0.67)\n",
        "test_size = len(y) - train_size\n",
        "\n",
        "dataX = Variable(torch.Tensor(np.array(x)))\n",
        "dataY = Variable(torch.Tensor(np.array(y)))\n",
        "\n",
        "trainX = Variable(torch.Tensor(np.array(x[0:train_size])))\n",
        "trainY = Variable(torch.Tensor(np.array(y[0:train_size])))\n",
        "\n",
        "testX = Variable(torch.Tensor(np.array(x[train_size:len(x)])))\n",
        "testY = Variable(torch.Tensor(np.array(y[train_size:len(y)])))"
      ],
      "execution_count": 44,
      "outputs": []
    },
    {
      "cell_type": "markdown",
      "metadata": {
        "id": "5tLRX6QsADp3"
      },
      "source": [
        "Го креираме LSTM моделот"
      ]
    },
    {
      "cell_type": "code",
      "metadata": {
        "id": "7UTAPJKyAFdP"
      },
      "source": [
        "class LSTM(nn.Module):\n",
        "\n",
        "    def __init__(self, num_classes, input_size, hidden_size, num_layers):\n",
        "        super(LSTM, self).__init__()\n",
        "        \n",
        "        self.num_classes = num_classes\n",
        "        self.num_layers = num_layers\n",
        "        self.input_size = input_size\n",
        "        self.hidden_size = hidden_size\n",
        "        self.seq_length = seq_length\n",
        "        \n",
        "        self.lstm = nn.LSTM(input_size=input_size, hidden_size=hidden_size,\n",
        "                            num_layers=num_layers, batch_first=True)\n",
        "        \n",
        "        self.fc = nn.Linear(hidden_size, num_classes)\n",
        "\n",
        "    def forward(self, x):\n",
        "        h_0 = Variable(torch.zeros(\n",
        "            self.num_layers, x.size(0), self.hidden_size))\n",
        "        \n",
        "        c_0 = Variable(torch.zeros(\n",
        "            self.num_layers, x.size(0), self.hidden_size))\n",
        "        \n",
        "        # Propagate input through LSTM\n",
        "        ula, (h_out, _) = self.lstm(x, (h_0, c_0))\n",
        "        \n",
        "        h_out = h_out.view(-1, self.hidden_size)\n",
        "        \n",
        "        out = self.fc(h_out)\n",
        "        \n",
        "        return out"
      ],
      "execution_count": 45,
      "outputs": []
    },
    {
      "cell_type": "markdown",
      "metadata": {
        "id": "XjOSl8FzAKtG"
      },
      "source": [
        "Дефинираме 2000 епохи и LSTM со еден влезен параметар, со еден слој и една класа на предвидување. Како функција на грешка користиме Mean Square Error. Погледнете како моделот ја намлува грешката при тренирање. "
      ]
    },
    {
      "cell_type": "code",
      "metadata": {
        "colab": {
          "base_uri": "https://localhost:8080/"
        },
        "id": "QWcBuW-8AK9u",
        "outputId": "39503232-a6f4-4f8f-ee25-1c35e0938a4e"
      },
      "source": [
        "num_epochs = 2000\n",
        "learning_rate = 0.01\n",
        "\n",
        "input_size = 1\n",
        "hidden_size = 2\n",
        "num_layers = 1\n",
        "\n",
        "num_classes = 1\n",
        "\n",
        "lstm = LSTM(num_classes, input_size, hidden_size, num_layers)\n",
        "\n",
        "criterion = torch.nn.MSELoss()    # mean-squared error for regression\n",
        "optimizer = torch.optim.Adam(lstm.parameters(), lr=learning_rate)\n",
        "#optimizer = torch.optim.SGD(lstm.parameters(), lr=learning_rate)\n",
        "\n",
        "# Train the model\n",
        "for epoch in range(num_epochs):\n",
        "    outputs = lstm(trainX)\n",
        "    optimizer.zero_grad()\n",
        "    \n",
        "    # obtain the loss function\n",
        "    loss = criterion(outputs, trainY)\n",
        "    \n",
        "    loss.backward()\n",
        "    \n",
        "    optimizer.step()\n",
        "    if epoch % 100 == 0:\n",
        "      print(\"Epoch: %d, loss: %1.5f\" % (epoch, loss.item()))"
      ],
      "execution_count": 46,
      "outputs": [
        {
          "output_type": "stream",
          "name": "stdout",
          "text": [
            "Epoch: 0, loss: 0.12888\n",
            "Epoch: 100, loss: 0.01073\n",
            "Epoch: 200, loss: 0.00288\n",
            "Epoch: 300, loss: 0.00256\n",
            "Epoch: 400, loss: 0.00231\n",
            "Epoch: 500, loss: 0.00209\n",
            "Epoch: 600, loss: 0.00191\n",
            "Epoch: 700, loss: 0.00180\n",
            "Epoch: 800, loss: 0.00176\n",
            "Epoch: 900, loss: 0.00174\n",
            "Epoch: 1000, loss: 0.00172\n",
            "Epoch: 1100, loss: 0.00169\n",
            "Epoch: 1200, loss: 0.00168\n",
            "Epoch: 1300, loss: 0.00168\n",
            "Epoch: 1400, loss: 0.00167\n",
            "Epoch: 1500, loss: 0.00166\n",
            "Epoch: 1600, loss: 0.00164\n",
            "Epoch: 1700, loss: 0.00162\n",
            "Epoch: 1800, loss: 0.00160\n",
            "Epoch: 1900, loss: 0.00158\n"
          ]
        }
      ]
    },
    {
      "cell_type": "markdown",
      "metadata": {
        "id": "6BowIDjxAQRG"
      },
      "source": [
        "Во следниов код вршиме евалуација на моделот"
      ]
    },
    {
      "cell_type": "code",
      "metadata": {
        "colab": {
          "base_uri": "https://localhost:8080/",
          "height": 294
        },
        "id": "scnIIu3qAQa_",
        "outputId": "e8fb5748-b417-4343-91b9-f35fa8b35437"
      },
      "source": [
        "lstm.eval()\n",
        "train_predict = lstm(dataX)\n",
        "\n",
        "data_predict = train_predict.data.numpy()\n",
        "  dataY_plot = dataY.data.numpy()\n",
        "\n",
        "  data_predict = sc.inverse_transform(data_predict)\n",
        "dataY_plot = sc.inverse_transform(dataY_plot)\n",
        "\n",
        "plt.axvline(x=train_size, c='r', linestyle='--')\n",
        "\n",
        "plt.plot(dataY_plot)\n",
        "plt.plot(data_predict)\n",
        "plt.suptitle('Time-Series Prediction')\n",
        "plt.show()"
      ],
      "execution_count": 47,
      "outputs": [
        {
          "output_type": "display_data",
          "data": {
            "image/png": "[encoded data removed]",
            "text/plain": [
              "<Figure size 432x288 with 1 Axes>"
            ]
          },
          "metadata": {
            "needs_background": "light"
          }
        }
      ]
    },
    {
      "cell_type": "markdown",
      "metadata": {
        "id": "sMPRkPGCByMu"
      },
      "source": [
        "# Вежба 4: CNN во PyTorch"
      ]
    },
    {
      "cell_type": "markdown",
      "metadata": {
        "id": "bcJWoRxdCd8v"
      },
      "source": [
        "Во следниов дел ќе ги прикажеме следниве делови:\n",
        "1. Вчитување и нормализација на CIFAR10 податочното множество со користење на torchvision\n",
        "2. Дефинирање на конволуциска невронска мрежа\n",
        "3. Дефинирање на функција на загуба\n",
        "4. Тренирање на мрежата\n",
        "5. Евалуација на моделот\n",
        "\n"
      ]
    },
    {
      "cell_type": "markdown",
      "metadata": {
        "id": "pFRIgnCPDBRt"
      },
      "source": [
        "1. Вчитување и нормализација на CIFAR10 податочното множество со користење на torchvision\n",
        " - Излезот на torchvision податочното множество се PILImage слики во рангот [0, 1]. Истите ги трансформираме во тензори со нормализиран ранг од  [-1, 1]."
      ]
    },
    {
      "cell_type": "code",
      "metadata": {
        "colab": {
          "base_uri": "https://localhost:8080/",
          "height": 101,
          "referenced_widgets": [
            "9fd402a2787147939348e2c522df63a9",
            "6aaa3321d97f4667ae2bbdeec19bb829",
            "e2031518dacc4f3d86112722dfa1a8ba",
            "3f1e58cd4f034c1a9f746a7a34d337ce",
            "2548f1f1670644c7972f05943b3b9f0f",
            "0de21b7753ad47f183ff72d20e88a442",
            "a8b5d1f389174da18f61b0a3b236be82",
            "a4151b9fda7a4ecb991e3a353a3a09bb",
            "f4c5f239f3504f9893de16594a79e527",
            "223ec8d904f544bfa2956bcac3c4b46b",
            "50c3fb7851904e2a966675e77b6c6ee9"
          ]
        },
        "id": "I517hMovDE4X",
        "outputId": "5052fecd-3751-464e-d5a7-832b40439993"
      },
      "source": [
        "import torch\n",
        "import torchvision\n",
        "import torchvision.transforms as transforms\n",
        "transform = transforms.Compose(\n",
        "    [transforms.ToTensor(),\n",
        "     transforms.Normalize((0.5, 0.5, 0.5), (0.5, 0.5, 0.5))])\n",
        "\n",
        "batch_size = 4\n",
        "\n",
        "trainset = torchvision.datasets.CIFAR10(root='./data', train=True,\n",
        "                                        download=True, transform=transform)\n",
        "trainloader = torch.utils.data.DataLoader(trainset, batch_size=batch_size,\n",
        "                                          shuffle=True, num_workers=2)\n",
        "\n",
        "testset = torchvision.datasets.CIFAR10(root='./data', train=False,\n",
        "                                       download=True, transform=transform)\n",
        "testloader = torch.utils.data.DataLoader(testset, batch_size=batch_size,\n",
        "                                         shuffle=False, num_workers=2)\n",
        "\n",
        "classes = ('plane', 'car', 'bird', 'cat',\n",
        "           'deer', 'dog', 'frog', 'horse', 'ship', 'truck')"
      ],
      "execution_count": 48,
      "outputs": [
        {
          "output_type": "stream",
          "name": "stdout",
          "text": [
            "Downloading https://www.cs.toronto.edu/~kriz/cifar-10-python.tar.gz to ./data/cifar-10-python.tar.gz\n"
          ]
        },
        {
          "output_type": "display_data",
          "data": {
            "application/vnd.jupyter.widget-view+json": {
              "model_id": "9fd402a2787147939348e2c522df63a9",
              "version_minor": 0,
              "version_major": 2
            },
            "text/plain": [
              "  0%|          | 0/170498071 [00:00<?, ?it/s]"
            ]
          },
          "metadata": {}
        },
        {
          "output_type": "stream",
          "name": "stdout",
          "text": [
            "Extracting ./data/cifar-10-python.tar.gz to ./data\n",
            "Files already downloaded and verified\n"
          ]
        }
      ]
    },
    {
      "cell_type": "markdown",
      "metadata": {
        "id": "aDxmomR5DLD3"
      },
      "source": [
        "Да прикажеме некои од сликите"
      ]
    },
    {
      "cell_type": "code",
      "metadata": {
        "colab": {
          "base_uri": "https://localhost:8080/",
          "height": 155
        },
        "id": "koeGjAlMDPGP",
        "outputId": "ed39f754-4b5a-41ed-c9fd-06b37f637488"
      },
      "source": [
        "import matplotlib.pyplot as plt\n",
        "import numpy as np\n",
        "\n",
        "# functions to show an image\n",
        "\n",
        "\n",
        "def imshow(img):\n",
        "    img = img / 2 + 0.5     # unnormalize\n",
        "    npimg = img.numpy()\n",
        "    plt.imshow(np.transpose(npimg, (1, 2, 0)))\n",
        "    plt.show()\n",
        "\n",
        "\n",
        "# get some random training images\n",
        "dataiter = iter(trainloader)\n",
        "images, labels = dataiter.next()\n",
        "\n",
        "# show images\n",
        "imshow(torchvision.utils.make_grid(images))\n",
        "# print labels\n",
        "print(' '.join('%5s' % classes[labels[j]] for j in range(batch_size)))"
      ],
      "execution_count": 49,
      "outputs": [
        {
          "output_type": "display_data",
          "data": {
            "image/png": "[encoded data removed]",
            "text/plain": [
              "<Figure size 432x288 with 1 Axes>"
            ]
          },
          "metadata": {
            "needs_background": "light"
          }
        },
        {
          "output_type": "stream",
          "name": "stdout",
          "text": [
            " ship plane truck truck\n"
          ]
        }
      ]
    },
    {
      "cell_type": "markdown",
      "metadata": {
        "id": "ZsZ0huG8DnK_"
      },
      "source": [
        "2. Дефинирање на конволуциска невронска мрежа"
      ]
    },
    {
      "cell_type": "code",
      "metadata": {
        "id": "vw7-IwsQDtQu"
      },
      "source": [
        "import torch.nn as nn\n",
        "import torch.nn.functional as F\n",
        "class Net(nn.Module):\n",
        "    def __init__(self):\n",
        "        super().__init__()\n",
        "        self.conv1 = nn.Conv2d(3, 6, 5) #сликите се 3 канални\n",
        "        self.pool = nn.MaxPool2d(2, 2)\n",
        "        self.conv2 = nn.Conv2d(6, 16, 5)\n",
        "        self.fc1 = nn.Linear(16 * 5 * 5, 120)\n",
        "        self.fc2 = nn.Linear(120, 84)\n",
        "        self.fc3 = nn.Linear(84, 10)\n",
        "\n",
        "    def forward(self, x):\n",
        "        x = self.pool(F.relu(self.conv1(x)))\n",
        "        x = self.pool(F.relu(self.conv2(x)))\n",
        "        x = torch.flatten(x, 1) # ги израмнуваме сите димензии освен batch диммензијата\n",
        "        x = F.relu(self.fc1(x))\n",
        "        x = F.relu(self.fc2(x))\n",
        "        x = self.fc3(x)\n",
        "        return x\n",
        "\n",
        "\n",
        "net = Net()"
      ],
      "execution_count": 59,
      "outputs": []
    },
    {
      "cell_type": "markdown",
      "metadata": {
        "id": "XI6T1OicD3bO"
      },
      "source": [
        "3. Дефинираме функција на загуба од типот Cross Entropy и оптимизатор SGD со моментум"
      ]
    },
    {
      "cell_type": "code",
      "metadata": {
        "id": "IU69UmxFEF4o"
      },
      "source": [
        "import torch.optim as optim\n",
        "\n",
        "criterion = nn.CrossEntropyLoss()\n",
        "optimizer = optim.SGD(net.parameters(), lr=0.001, momentum=0.9)"
      ],
      "execution_count": 60,
      "outputs": []
    },
    {
      "cell_type": "markdown",
      "metadata": {
        "id": "Gb18ItZjEG90"
      },
      "source": [
        "4. Тренирање на мрежата"
      ]
    },
    {
      "cell_type": "code",
      "metadata": {
        "colab": {
          "base_uri": "https://localhost:8080/"
        },
        "id": "OpfIUQioEPRq",
        "outputId": "3017b208-4718-44d0-b194-e55d3d21e378"
      },
      "source": [
        "for epoch in range(2):  # Ги изминуваме податочното множество неколку пати\n",
        "\n",
        "    running_loss = 0.0\n",
        "    for i, data in enumerate(trainloader, 0):\n",
        "        # Се добиваат влезовите; податоците се листа од [inputs, labels]\n",
        "        inputs, labels = data\n",
        "\n",
        "        # Градиентите на параметрите ги нагодуваме на нула\n",
        "        optimizer.zero_grad()\n",
        "\n",
        "        # forward премин + backward премин + оптимизација\n",
        "        outputs = net(inputs)\n",
        "        loss = criterion(outputs, labels)\n",
        "        loss.backward()\n",
        "        optimizer.step()\n",
        "\n",
        "        # печатење на статистиките\n",
        "        running_loss += loss.item()\n",
        "        if i % 2000 == 1999:    # се печати на секои 2000 mini-batches\n",
        "            print('[%d, %5d] loss: %.3f' %\n",
        "                  (epoch + 1, i + 1, running_loss / 2000))\n",
        "            running_loss = 0.0\n",
        "\n",
        "print('Finished Training')"
      ],
      "execution_count": 61,
      "outputs": [
        {
          "output_type": "stream",
          "name": "stdout",
          "text": [
            "[1,  2000] loss: 2.157\n",
            "[1,  4000] loss: 1.839\n",
            "[1,  6000] loss: 1.694\n",
            "[1,  8000] loss: 1.608\n",
            "[1, 10000] loss: 1.546\n",
            "[1, 12000] loss: 1.495\n",
            "[2,  2000] loss: 1.418\n",
            "[2,  4000] loss: 1.411\n",
            "[2,  6000] loss: 1.364\n",
            "[2,  8000] loss: 1.369\n",
            "[2, 10000] loss: 1.313\n",
            "[2, 12000] loss: 1.298\n",
            "Finished Training\n"
          ]
        }
      ]
    },
    {
      "cell_type": "markdown",
      "metadata": {
        "id": "tc_i7BRhEHEo"
      },
      "source": [
        "5. Тестирање на моделот\n",
        "- прикажуваме една слика од тест множеството"
      ]
    },
    {
      "cell_type": "code",
      "metadata": {
        "colab": {
          "base_uri": "https://localhost:8080/",
          "height": 155
        },
        "id": "2smn45WEFC-4",
        "outputId": "ef84bc56-263e-4aac-b3c3-cd73c178e0a9"
      },
      "source": [
        "dataiter = iter(testloader)\n",
        "images, labels = dataiter.next()\n",
        "\n",
        "# print images\n",
        "imshow(torchvision.utils.make_grid(images))\n",
        "print('GroundTruth: ', ' '.join('%5s' % classes[labels[j]] for j in range(4)))"
      ],
      "execution_count": 62,
      "outputs": [
        {
          "output_type": "display_data",
          "data": {
            "image/png": "[encoded data removed]",
            "text/plain": [
              "<Figure size 432x288 with 1 Axes>"
            ]
          },
          "metadata": {
            "needs_background": "light"
          }
        },
        {
          "output_type": "stream",
          "name": "stdout",
          "text": [
            "GroundTruth:    cat  ship  ship plane\n"
          ]
        }
      ]
    },
    {
      "cell_type": "markdown",
      "metadata": {
        "id": "3LjCMUQ7FFyd"
      },
      "source": [
        "Следниов код покажува како би го вчитувале сниманиот модел од PATH Патеката. Во нашиов случај го имаме моделот во меморија и овој код не го извршуваме"
      ]
    },
    {
      "cell_type": "code",
      "metadata": {
        "id": "nUl8UZ0sFLnl"
      },
      "source": [
        "#net = Net()\n",
        "#net.load_state_dict(torch.load(PATH))"
      ],
      "execution_count": null,
      "outputs": []
    },
    {
      "cell_type": "markdown",
      "metadata": {
        "id": "2u1RkF5TFKUg"
      },
      "source": [
        "Да видиме што предвидува моделот"
      ]
    },
    {
      "cell_type": "code",
      "metadata": {
        "colab": {
          "base_uri": "https://localhost:8080/"
        },
        "id": "rDekkuUgF1HE",
        "outputId": "e0a76b85-774e-4393-943b-36a179fedb81"
      },
      "source": [
        "_, predicted = torch.max(outputs, 1)\n",
        "\n",
        "print('Predicted: ', ' '.join('%5s' % classes[predicted[j]]\n",
        "                              for j in range(4)))"
      ],
      "execution_count": 63,
      "outputs": [
        {
          "output_type": "stream",
          "name": "stdout",
          "text": [
            "Predicted:    cat truck   cat   cat\n"
          ]
        }
      ]
    },
    {
      "cell_type": "markdown",
      "metadata": {
        "id": "xEuWsCR2F6WV"
      },
      "source": [
        "Да видиме како предвидува моделот на целото тест податочно множество. Имајте во предви дека доколку предвидуваме случајно прецисноста ви била 10% (100 поделено со бројот на класи, кој во нашиов случај е 10)"
      ]
    },
    {
      "cell_type": "code",
      "metadata": {
        "colab": {
          "base_uri": "https://localhost:8080/"
        },
        "id": "utyhQbplF-13",
        "outputId": "2cfb0bb5-1a27-41a6-fa33-5cc4259f0768"
      },
      "source": [
        "correct = 0\n",
        "total = 0\n",
        "# since we're not training, we don't need to calculate the gradients for our outputs\n",
        "with torch.no_grad():\n",
        "    for data in testloader:\n",
        "        images, labels = data\n",
        "        # calculate outputs by running images through the network\n",
        "        outputs = net(images)\n",
        "        # the class with the highest energy is what we choose as prediction\n",
        "        _, predicted = torch.max(outputs.data, 1)\n",
        "        total += labels.size(0)\n",
        "        correct += (predicted == labels).sum().item()\n",
        "\n",
        "print('Accuracy of the network on the 10000 test images: %d %%' % (\n",
        "    100 * correct / total))"
      ],
      "execution_count": 64,
      "outputs": [
        {
          "output_type": "stream",
          "name": "stdout",
          "text": [
            "Accuracy of the network on the 10000 test images: 54 %\n"
          ]
        }
      ]
    },
    {
      "cell_type": "markdown",
      "metadata": {
        "id": "_ok_vy3pGQCW"
      },
      "source": [
        "Да ги видиме резултатите по класи"
      ]
    },
    {
      "cell_type": "code",
      "metadata": {
        "colab": {
          "base_uri": "https://localhost:8080/"
        },
        "id": "U7UpCsMfGPif",
        "outputId": "d78c52f1-2704-4343-dc14-03aad32c19c0"
      },
      "source": [
        "# prepare to count predictions for each class\n",
        "correct_pred = {classname: 0 for classname in classes}\n",
        "total_pred = {classname: 0 for classname in classes}\n",
        "\n",
        "# again no gradients needed\n",
        "with torch.no_grad():\n",
        "    for data in testloader:\n",
        "        images, labels = data\n",
        "        outputs = net(images)\n",
        "        _, predictions = torch.max(outputs, 1)\n",
        "        # collect the correct predictions for each class\n",
        "        for label, prediction in zip(labels, predictions):\n",
        "            if label == prediction:\n",
        "                correct_pred[classes[label]] += 1\n",
        "            total_pred[classes[label]] += 1\n",
        "\n",
        "\n",
        "# print accuracy for each class\n",
        "for classname, correct_count in correct_pred.items():\n",
        "    accuracy = 100 * float(correct_count) / total_pred[classname]\n",
        "    print(\"Accuracy for class {:5s} is: {:.1f} %\".format(classname,\n",
        "                                                   accuracy))"
      ],
      "execution_count": 65,
      "outputs": [
        {
          "output_type": "stream",
          "name": "stdout",
          "text": [
            "Accuracy for class plane is: 53.6 %\n",
            "Accuracy for class car   is: 76.7 %\n",
            "Accuracy for class bird  is: 19.6 %\n",
            "Accuracy for class cat   is: 30.9 %\n",
            "Accuracy for class deer  is: 50.7 %\n",
            "Accuracy for class dog   is: 52.8 %\n",
            "Accuracy for class frog  is: 69.0 %\n",
            "Accuracy for class horse is: 59.7 %\n",
            "Accuracy for class ship  is: 61.7 %\n",
            "Accuracy for class truck is: 70.0 %\n"
          ]
        }
      ]
    }
  ]
}