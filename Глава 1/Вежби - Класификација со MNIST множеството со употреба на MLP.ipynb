{
 "cells": [
  {
   "cell_type": "markdown",
   "metadata": {},
   "source": [
    "**Вежба за Глава 1 - Вовед (Класификација на слики со MLP)**\n",
    "\n",
    "Кодот е изваден и адаптиран од https://www.tensorflow.org/tutorials/quickstart/beginner"
   ]
  },
  {
   "cell_type": "markdown",
   "metadata": {
    "id": "QhXPkb_tFVlr"
   },
   "source": [
    "Пример за класификација на цифри со MNIST податочното множество со употреба на Multilayer perceptron"
   ]
  },
  {
   "cell_type": "code",
   "execution_count": 16,
   "metadata": {
    "id": "sNhD5eu6jgbb"
   },
   "outputs": [],
   "source": [
    "import tensorflow as tf"
   ]
  },
  {
   "cell_type": "markdown",
   "metadata": {
    "id": "7PULitD5oiv1"
   },
   "source": [
    "Вчитување на MNIST податочното множество."
   ]
  },
  {
   "cell_type": "code",
   "execution_count": 17,
   "metadata": {
    "id": "R1aWY5YTjsbX"
   },
   "outputs": [],
   "source": [
    "mnist = tf.keras.datasets.mnist\n",
    "\n",
    "(x_train, y_train), (x_test, y_test) = mnist.load_data()\n"
   ]
  },
  {
   "cell_type": "markdown",
   "metadata": {
    "id": "yZUnstT7HQiV"
   },
   "source": [
    "Скалирање на влезните податоци од тренинг и тест множеството од опсегот (0,255) во опсегот (0,1)."
   ]
  },
  {
   "cell_type": "code",
   "execution_count": 18,
   "metadata": {
    "id": "71Kh3LxjHOTF"
   },
   "outputs": [],
   "source": [
    "x_train = x_train / 255\n",
    "x_test = x_test / 255"
   ]
  },
  {
   "cell_type": "markdown",
   "metadata": {
    "id": "K7Cgj4FZFsPN"
   },
   "source": [
    "Креирање на модел на невронска мрежа кој се состои од еден скирен слој со 200 јазли со сигмоидална активациска функција и еден излезен слој со 10 јазли, колку што има излезни класи (цифри), со линеарна активациска функција."
   ]
  },
  {
   "cell_type": "code",
   "execution_count": 19,
   "metadata": {
    "id": "K5wQS4nSj8Ye"
   },
   "outputs": [],
   "source": [
    "model = tf.keras.models.Sequential([\n",
    "  tf.keras.layers.Flatten(input_shape=(28, 28)),\n",
    "  tf.keras.layers.Dense(100, activation='sigmoid'),\n",
    "  tf.keras.layers.Dense(10)\n",
    "])"
   ]
  },
  {
   "cell_type": "markdown",
   "metadata": {
    "id": "VrIs94X4Hc1x"
   },
   "source": [
    "Дефинирање на Категориска кросентропија како функција на загуба."
   ]
  },
  {
   "cell_type": "code",
   "execution_count": 20,
   "metadata": {
    "id": "Jt3osbu8kObr"
   },
   "outputs": [],
   "source": [
    "# loss_fn = tf.keras.losses.SparseCategoricalCrossentropy(from_logits=True)"
   ]
  },
  {
   "cell_type": "markdown",
   "metadata": {
    "id": "Gr_H3OdjHj2D"
   },
   "source": [
    "Компајлирање на моделот. Избор на оптимизациски метод: adam, функција на загуба: SparseCategoricalCrossentropy и метрика: accuracy"
   ]
  },
  {
   "cell_type": "code",
   "execution_count": 21,
   "metadata": {
    "id": "3kt55E9UkWXu"
   },
   "outputs": [],
   "source": [
    "model.compile(optimizer='adam',\n",
    "              loss=tf.keras.losses.SparseCategoricalCrossentropy(from_logits=True),\n",
    "              metrics=['accuracy'])"
   ]
  },
  {
   "cell_type": "markdown",
   "metadata": {
    "id": "tSySUiXSIhEb"
   },
   "source": [
    "Тренирање на моделот"
   ]
  },
  {
   "cell_type": "code",
   "execution_count": 22,
   "metadata": {
    "colab": {
     "base_uri": "https://localhost:8080/"
    },
    "id": "GwaahEAFkYrY",
    "outputId": "08f3d562-010c-4866-b3db-9964a2a367ad"
   },
   "outputs": [
    {
     "name": "stdout",
     "output_type": "stream",
     "text": [
      "Epoch 1/10\n",
      "1875/1875 [==============================] - 4s 2ms/step - loss: 0.4182 - accuracy: 0.8930\n",
      "Epoch 2/10\n",
      "1875/1875 [==============================] - 3s 2ms/step - loss: 0.2045 - accuracy: 0.9413\n",
      "Epoch 3/10\n",
      "1875/1875 [==============================] - 3s 2ms/step - loss: 0.1515 - accuracy: 0.9567\n",
      "Epoch 4/10\n",
      "1875/1875 [==============================] - 3s 2ms/step - loss: 0.1189 - accuracy: 0.9655\n",
      "Epoch 5/10\n",
      "1875/1875 [==============================] - 3s 2ms/step - loss: 0.0967 - accuracy: 0.9726\n",
      "Epoch 6/10\n",
      "1875/1875 [==============================] - 3s 2ms/step - loss: 0.0800 - accuracy: 0.9775\n",
      "Epoch 7/10\n",
      "1875/1875 [==============================] - 3s 2ms/step - loss: 0.0681 - accuracy: 0.9813\n",
      "Epoch 8/10\n",
      "1875/1875 [==============================] - 3s 2ms/step - loss: 0.0583 - accuracy: 0.9838\n",
      "Epoch 9/10\n",
      "1875/1875 [==============================] - 3s 2ms/step - loss: 0.0494 - accuracy: 0.9869\n",
      "Epoch 10/10\n",
      "1875/1875 [==============================] - 3s 2ms/step - loss: 0.0427 - accuracy: 0.9890\n"
     ]
    },
    {
     "data": {
      "text/plain": [
       "<keras.callbacks.History at 0x7f04432cf4d0>"
      ]
     },
     "execution_count": 22,
     "metadata": {},
     "output_type": "execute_result"
    }
   ],
   "source": [
    "model.fit(x_train, y_train, epochs=10)"
   ]
  },
  {
   "cell_type": "markdown",
   "metadata": {
    "id": "JPtmmayAIjzj"
   },
   "source": [
    "Евалуација на моделот"
   ]
  },
  {
   "cell_type": "code",
   "execution_count": 23,
   "metadata": {
    "colab": {
     "base_uri": "https://localhost:8080/"
    },
    "id": "i0YHzUOYkjhO",
    "outputId": "4a5e0c77-0345-4f90-84e6-9b68a0f4eef0"
   },
   "outputs": [
    {
     "name": "stdout",
     "output_type": "stream",
     "text": [
      "313/313 [==============================] - 0s 1ms/step - loss: 0.0753 - accuracy: 0.9753\n"
     ]
    },
    {
     "data": {
      "text/plain": [
       "[0.07526617497205734, 0.9753000140190125]"
      ]
     },
     "execution_count": 23,
     "metadata": {},
     "output_type": "execute_result"
    }
   ],
   "source": [
    "model.evaluate(x_test,  y_test)"
   ]
  },
  {
   "cell_type": "markdown",
   "metadata": {
    "id": "I_uyb4f6Ilv8"
   },
   "source": [
    "Предивидување со моделот при проследување на првиот примерок од тест множеството."
   ]
  },
  {
   "cell_type": "code",
   "execution_count": 24,
   "metadata": {
    "colab": {
     "base_uri": "https://localhost:8080/"
    },
    "id": "FkJozczSZuJC",
    "outputId": "68ca2c5a-ff42-418c-d35d-28f3805d7b08"
   },
   "outputs": [
    {
     "name": "stdout",
     "output_type": "stream",
     "text": [
      "[[ -5.8626666  -5.3912716  -2.850399    0.5224746  -9.21834    -3.4722326\n",
      "  -14.055452    7.44192    -3.635701   -2.8376694]]\n"
     ]
    }
   ],
   "source": [
    "output = model(x_test[0,:,:].reshape(1,28,28),1)\n",
    "print(output.numpy())"
   ]
  },
  {
   "cell_type": "code",
   "execution_count": 25,
   "metadata": {
    "colab": {
     "base_uri": "https://localhost:8080/"
    },
    "id": "gSeIwsyQcXip",
    "outputId": "816485d7-ba29-4660-b036-f21a6fc3481f"
   },
   "outputs": [
    {
     "name": "stdout",
     "output_type": "stream",
     "text": [
      "2\n"
     ]
    }
   ],
   "source": [
    "print(y_test[1])"
   ]
  },
  {
   "cell_type": "markdown",
   "metadata": {
    "id": "vFlZJtlMGTMz"
   },
   "source": [
    "Проследување на излезите низ softmax функција со што тие може да се интерпретираат како веројатност за секоја од класите."
   ]
  },
  {
   "cell_type": "code",
   "execution_count": 26,
   "metadata": {
    "colab": {
     "base_uri": "https://localhost:8080/"
    },
    "id": "HydWZ4KAvtgw",
    "outputId": "2caeb1eb-268c-4d2e-daa1-392830dabe9e"
   },
   "outputs": [
    {
     "name": "stdout",
     "output_type": "stream",
     "text": [
      "[[1.6650082e-06 2.6677237e-06 3.3855387e-05 9.8729751e-04 5.8085291e-08\n",
      "  1.8178951e-05 4.6061169e-10 9.9890649e-01 1.5437443e-05 3.4289107e-05]]\n"
     ]
    }
   ],
   "source": [
    "print(tf.nn.softmax(output).numpy())"
   ]
  },
  {
   "cell_type": "markdown",
   "metadata": {
    "id": "i3Iv_IvgGG_6"
   },
   "source": [
    "Модел на невронска мрежа во кој е додадена Dropout регуларизација и скриениот слој има 100 јазли со relu активациска функција."
   ]
  },
  {
   "cell_type": "code",
   "execution_count": 27,
   "metadata": {
    "id": "bFcVeVnjGJ4M"
   },
   "outputs": [],
   "source": [
    "model = tf.keras.models.Sequential([\n",
    "  tf.keras.layers.Flatten(input_shape=(28, 28)),\n",
    "  tf.keras.layers.Dense(100, activation='relu'),\n",
    "  tf.keras.layers.Dropout(0.2),\n",
    "  tf.keras.layers.Dense(10)\n",
    "])"
   ]
  },
  {
   "cell_type": "code",
   "execution_count": 28,
   "metadata": {
    "id": "s8S7pMtjG9q4"
   },
   "outputs": [],
   "source": [
    "model.compile(optimizer='adam',\n",
    "              loss=tf.keras.losses.SparseCategoricalCrossentropy(from_logits=True),\n",
    "              metrics=['accuracy'])"
   ]
  },
  {
   "cell_type": "code",
   "execution_count": 29,
   "metadata": {
    "colab": {
     "base_uri": "https://localhost:8080/"
    },
    "id": "CrMJ5BMqHAxN",
    "outputId": "c2c00453-f535-46fd-ca85-69fac93973d9"
   },
   "outputs": [
    {
     "name": "stdout",
     "output_type": "stream",
     "text": [
      "Epoch 1/10\n",
      "1875/1875 [==============================] - 4s 2ms/step - loss: 0.3129 - accuracy: 0.9093\n",
      "Epoch 2/10\n",
      "1875/1875 [==============================] - 3s 2ms/step - loss: 0.1552 - accuracy: 0.9537\n",
      "Epoch 3/10\n",
      "1875/1875 [==============================] - 3s 2ms/step - loss: 0.1205 - accuracy: 0.9632\n",
      "Epoch 4/10\n",
      "1875/1875 [==============================] - 3s 2ms/step - loss: 0.1002 - accuracy: 0.9697\n",
      "Epoch 5/10\n",
      "1875/1875 [==============================] - 3s 2ms/step - loss: 0.0861 - accuracy: 0.9726\n",
      "Epoch 6/10\n",
      "1875/1875 [==============================] - 3s 2ms/step - loss: 0.0763 - accuracy: 0.9759\n",
      "Epoch 7/10\n",
      "1875/1875 [==============================] - 3s 2ms/step - loss: 0.0695 - accuracy: 0.9782\n",
      "Epoch 8/10\n",
      "1875/1875 [==============================] - 3s 2ms/step - loss: 0.0625 - accuracy: 0.9796\n",
      "Epoch 9/10\n",
      "1875/1875 [==============================] - 3s 2ms/step - loss: 0.0591 - accuracy: 0.9803\n",
      "Epoch 10/10\n",
      "1875/1875 [==============================] - 3s 2ms/step - loss: 0.0544 - accuracy: 0.9825\n"
     ]
    },
    {
     "data": {
      "text/plain": [
       "<keras.callbacks.History at 0x7f0443013ed0>"
      ]
     },
     "execution_count": 29,
     "metadata": {},
     "output_type": "execute_result"
    }
   ],
   "source": [
    "model.fit(x_train, y_train, epochs=10)"
   ]
  },
  {
   "cell_type": "code",
   "execution_count": 30,
   "metadata": {
    "colab": {
     "base_uri": "https://localhost:8080/"
    },
    "id": "6aHDnudkHDa4",
    "outputId": "6c1a3e97-d72d-439d-a395-008b8d39cee5"
   },
   "outputs": [
    {
     "name": "stdout",
     "output_type": "stream",
     "text": [
      "313/313 [==============================] - 0s 1ms/step - loss: 0.0744 - accuracy: 0.9784\n"
     ]
    },
    {
     "data": {
      "text/plain": [
       "[0.07441152632236481, 0.9783999919891357]"
      ]
     },
     "execution_count": 30,
     "metadata": {},
     "output_type": "execute_result"
    }
   ],
   "source": [
    "model.evaluate(x_test,  y_test)"
   ]
  }
 ],
 "metadata": {
  "colab": {
   "collapsed_sections": [],
   "name": "MNISTClassificationUsingMLP.ipynb",
   "provenance": []
  },
  "kernelspec": {
   "display_name": "Python 3 (ipykernel)",
   "language": "python",
   "name": "python3"
  },
  "language_info": {
   "codemirror_mode": {
    "name": "ipython",
    "version": 3
   },
   "file_extension": ".py",
   "mimetype": "text/x-python",
   "name": "python",
   "nbconvert_exporter": "python",
   "pygments_lexer": "ipython3",
   "version": "3.8.11"
  }
 },
 "nbformat": 4,
 "nbformat_minor": 1
}
