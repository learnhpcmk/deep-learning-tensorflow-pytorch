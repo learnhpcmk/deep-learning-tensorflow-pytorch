{
  "nbformat": 4,
  "nbformat_minor": 0,
  "metadata": {
    "colab": {
      "name": "Глава 6 (Вежби) - ParallelGPU.ipynb",
      "provenance": [],
      "machine_shape": "hm"
    },
    "kernelspec": {
      "name": "python3",
      "display_name": "Python 3"
    },
    "language_info": {
      "name": "python"
    },
    "accelerator": "GPU"
  },
  "cells": [
    {
      "cell_type": "markdown",
      "metadata": {
        "id": "Fc1jr7K44IBr"
      },
      "source": [
        "# Вежба 1: Паралелизација во TensorFlow"
      ]
    },
    {
      "cell_type": "markdown",
      "metadata": {
        "id": "kqZtTcON3_4T"
      },
      "source": [
        "# Вежба 2: Паралелизација во PyTorch"
      ]
    },
    {
      "cell_type": "markdown",
      "metadata": {
        "id": "eSdoj2RD38IN"
      },
      "source": [
        "Ги импортираме сите параметри и модули"
      ]
    },
    {
      "cell_type": "code",
      "metadata": {
        "id": "ypStZRrV34Vr"
      },
      "source": [
        "import torch\n",
        "import torch.nn as nn\n",
        "from torch.utils.data import Dataset, DataLoader\n",
        "\n",
        "# Parameters and DataLoaders\n",
        "input_size = 5\n",
        "output_size = 2\n",
        "\n",
        "batch_size = 30\n",
        "data_size = 100"
      ],
      "execution_count": 1,
      "outputs": []
    },
    {
      "cell_type": "markdown",
      "metadata": {
        "id": "1sA65BBZ4bjD"
      },
      "source": [
        "Ја дефинираме GPU инстанцата"
      ]
    },
    {
      "cell_type": "code",
      "metadata": {
        "id": "YEfIJlks4XLf"
      },
      "source": [
        "device = torch.device(\"cuda:0\" if torch.cuda.is_available() else \"cpu\")"
      ],
      "execution_count": 3,
      "outputs": []
    },
    {
      "cell_type": "markdown",
      "metadata": {
        "id": "wEgOhPgi4gwM"
      },
      "source": [
        "Креираме едноставно и случајно податочно множество"
      ]
    },
    {
      "cell_type": "code",
      "metadata": {
        "id": "vAH0H2lw4jUr"
      },
      "source": [
        "class RandomDataset(Dataset):\n",
        "\n",
        "    def __init__(self, size, length):\n",
        "        self.len = length\n",
        "        self.data = torch.randn(length, size)\n",
        "\n",
        "    def __getitem__(self, index):\n",
        "        return self.data[index]\n",
        "\n",
        "    def __len__(self):\n",
        "        return self.len\n",
        "\n",
        "rand_loader = DataLoader(dataset=RandomDataset(input_size, data_size),\n",
        "                         batch_size=batch_size, shuffle=True)"
      ],
      "execution_count": 4,
      "outputs": []
    },
    {
      "cell_type": "markdown",
      "metadata": {
        "id": "lflxk-pO4lsb"
      },
      "source": [
        "Дефинираме едноставен модел"
      ]
    },
    {
      "cell_type": "code",
      "metadata": {
        "id": "P66UDxy-4nA7"
      },
      "source": [
        "class Model(nn.Module):\n",
        "    # Our model\n",
        "\n",
        "    def __init__(self, input_size, output_size):\n",
        "        super(Model, self).__init__()\n",
        "        self.fc = nn.Linear(input_size, output_size)\n",
        "\n",
        "    def forward(self, input):\n",
        "        output = self.fc(input)\n",
        "        print(\"\\tIn Model: input size\", input.size(),\n",
        "              \"output size\", output.size())\n",
        "\n",
        "        return output"
      ],
      "execution_count": 5,
      "outputs": []
    },
    {
      "cell_type": "markdown",
      "metadata": {
        "id": "-4MeM7Ii4suE"
      },
      "source": [
        "Го инстанцираме моделот и го префрламе на GPU (Во примеров имаме на распологање само една GPU инстанца)"
      ]
    },
    {
      "cell_type": "code",
      "metadata": {
        "colab": {
          "base_uri": "https://localhost:8080/"
        },
        "id": "TQB5BCzI4sIT",
        "outputId": "911150dd-af41-4d0d-df57-a00b424936a7"
      },
      "source": [
        "model = Model(input_size, output_size)\n",
        "if torch.cuda.device_count() > 1:\n",
        "  print(\"Let's use\", torch.cuda.device_count(), \"GPUs!\")\n",
        "  # dim = 0 [30, xxx] -> [10, ...], [10, ...] on 2 GPUs\n",
        "  model = nn.DataParallel(model)\n",
        "\n",
        "model.to(device)"
      ],
      "execution_count": 6,
      "outputs": [
        {
          "output_type": "execute_result",
          "data": {
            "text/plain": [
              "Model(\n",
              "  (fc): Linear(in_features=5, out_features=2, bias=True)\n",
              ")"
            ]
          },
          "metadata": {},
          "execution_count": 6
        }
      ]
    },
    {
      "cell_type": "markdown",
      "metadata": {
        "id": "n01TO5KC48p0"
      },
      "source": [
        "Го стартуваме моделот"
      ]
    },
    {
      "cell_type": "code",
      "metadata": {
        "colab": {
          "base_uri": "https://localhost:8080/"
        },
        "id": "n5WVRH7k4-lh",
        "outputId": "88ded7e7-e011-4ab4-c819-a3c28726c496"
      },
      "source": [
        "for data in rand_loader:\n",
        "    input = data.to(device)\n",
        "    output = model(input)\n",
        "    print(\"Outside: input size\", input.size(),\n",
        "          \"output_size\", output.size())"
      ],
      "execution_count": 7,
      "outputs": [
        {
          "output_type": "stream",
          "name": "stdout",
          "text": [
            "\tIn Model: input size torch.Size([30, 5]) output size torch.Size([30, 2])\n",
            "Outside: input size torch.Size([30, 5]) output_size torch.Size([30, 2])\n",
            "\tIn Model: input size torch.Size([30, 5]) output size torch.Size([30, 2])\n",
            "Outside: input size torch.Size([30, 5]) output_size torch.Size([30, 2])\n",
            "\tIn Model: input size torch.Size([30, 5]) output size torch.Size([30, 2])\n",
            "Outside: input size torch.Size([30, 5]) output_size torch.Size([30, 2])\n",
            "\tIn Model: input size torch.Size([10, 5]) output size torch.Size([10, 2])\n",
            "Outside: input size torch.Size([10, 5]) output_size torch.Size([10, 2])\n"
          ]
        }
      ]
    },
    {
      "cell_type": "markdown",
      "metadata": {
        "id": "fuTumxeR5DYs"
      },
      "source": [
        "Забелешка: Доколку сте во можност извршете го кодот на машина со повеќе GPU инстанци и разгледајте го излезот. Дали може да ги воочите разликите во димензиите на тензорите? Зошто е тоа така?"
      ]
    }
  ]
}